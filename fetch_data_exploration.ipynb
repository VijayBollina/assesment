{
 "cells": [
  {
   "cell_type": "markdown",
   "id": "51b85600",
   "metadata": {},
   "source": [
    "### Importing the essential libraries"
   ]
  },
  {
   "cell_type": "code",
   "execution_count": 1,
   "id": "3a92bde0",
   "metadata": {},
   "outputs": [],
   "source": [
    "import pandas as pd\n",
    "import numpy as np\n",
    "import io\n",
    "import json\n",
    "import gzip\n",
    "import datetime\n",
    "import warnings\n",
    "warnings.filterwarnings('ignore')\n",
    "pd.options.display.float_format = '{:.2f}'.format"
   ]
  },
  {
   "cell_type": "markdown",
   "id": "bd733e7f",
   "metadata": {},
   "source": [
    "### Extracting and loading data from zip files."
   ]
  },
  {
   "cell_type": "code",
   "execution_count": 2,
   "id": "8ba61b3d",
   "metadata": {},
   "outputs": [],
   "source": [
    "with gzip.open('E:/brands.json.gz', 'r') as f:\n",
    "        with io.TextIOWrapper(f, encoding='utf-8') as decoder:\n",
    "            data_brands = [json.loads(line) for line in decoder.readlines()]\n",
    "brands = pd.json_normalize(data_brands, sep = '-')\n",
    "\n",
    "with gzip.open('E:/users.json.gz', 'r') as f:\n",
    "        with io.TextIOWrapper(f, encoding='utf-8') as decoder:\n",
    "            data_user = [json.loads(line) for line in decoder.readlines()]\n",
    "user = pd.json_normalize(data_user, sep = '-')\n",
    "\n",
    "with gzip.open('E:/receipts.json.gz', 'r') as f:\n",
    "        with io.TextIOWrapper(f, encoding='utf-8') as decoder:\n",
    "            data_receipts = [json.loads(line) for line in decoder.readlines()]\n",
    "receipts = pd.json_normalize(data_receipts, sep = '-')"
   ]
  },
  {
   "cell_type": "markdown",
   "id": "1df59605",
   "metadata": {},
   "source": [
    "### Exploring Brands dataset"
   ]
  },
  {
   "cell_type": "code",
   "execution_count": 3,
   "id": "ae58a39d",
   "metadata": {},
   "outputs": [
    {
     "name": "stdout",
     "output_type": "stream",
     "text": [
      "<class 'pandas.core.frame.DataFrame'>\n",
      "RangeIndex: 1167 entries, 0 to 1166\n",
      "Data columns (total 9 columns):\n",
      " #   Column        Non-Null Count  Dtype \n",
      "---  ------        --------------  ----- \n",
      " 0   barcode       1167 non-null   object\n",
      " 1   category      1012 non-null   object\n",
      " 2   categoryCode  517 non-null    object\n",
      " 3   name          1167 non-null   object\n",
      " 4   topBrand      555 non-null    object\n",
      " 5   _id-$oid      1167 non-null   object\n",
      " 6   cpg-$id-$oid  1167 non-null   object\n",
      " 7   cpg-$ref      1167 non-null   object\n",
      " 8   brandCode     933 non-null    object\n",
      "dtypes: object(9)\n",
      "memory usage: 82.2+ KB\n",
      "None\n"
     ]
    }
   ],
   "source": [
    "print(brands.info())"
   ]
  },
  {
   "cell_type": "markdown",
   "id": "a5aa67b2",
   "metadata": {},
   "source": [
    "From the info, we can infer that the dimensional data has missing values. Let us investigate further to find out the proportion of missing values in the data set."
   ]
  },
  {
   "cell_type": "code",
   "execution_count": 4,
   "id": "eb1162fd",
   "metadata": {},
   "outputs": [
    {
     "data": {
      "text/plain": [
       "barcode        0.00\n",
       "category       0.13\n",
       "categoryCode   0.56\n",
       "name           0.00\n",
       "topBrand       0.52\n",
       "_id-$oid       0.00\n",
       "cpg-$id-$oid   0.00\n",
       "cpg-$ref       0.00\n",
       "brandCode      0.20\n",
       "dtype: float64"
      ]
     },
     "execution_count": 4,
     "metadata": {},
     "output_type": "execute_result"
    }
   ],
   "source": [
    "brands.isnull().mean()"
   ]
  },
  {
   "cell_type": "markdown",
   "id": "941757bf",
   "metadata": {},
   "source": [
    "`CategoryCode` and `Topbrand` columns seems to have higher missing values with proportion of 56% and 52% respecitvely"
   ]
  },
  {
   "cell_type": "markdown",
   "id": "b351c6cd",
   "metadata": {},
   "source": [
    "#### Summary statistics of Brands dataset"
   ]
  },
  {
   "cell_type": "code",
   "execution_count": 5,
   "id": "f456988d",
   "metadata": {},
   "outputs": [
    {
     "name": "stdout",
     "output_type": "stream",
     "text": [
      "             barcode category categoryCode     name topBrand  \\\n",
      "count           1167     1012          517     1167      555   \n",
      "unique          1160       23           14     1156        2   \n",
      "top     511111305125   Baking       BAKING  Huggies    False   \n",
      "freq               2      369          359        2      524   \n",
      "\n",
      "                        _id-$oid              cpg-$id-$oid cpg-$ref brandCode  \n",
      "count                       1167                      1167     1167       933  \n",
      "unique                      1167                       196        2       897  \n",
      "top     601ac115be37ce2ead437551  559c2234e4b06aca36af13c6     Cogs            \n",
      "freq                           1                        98     1020        35  \n",
      "\n",
      "\n",
      "----------------------------\n",
      "        barcode        category      categoryCode                       name  \\\n",
      "0  511111019862          Baking            BAKING  test brand @1612366101024   \n",
      "1  511111519928       Beverages         BEVERAGES                  Starbucks   \n",
      "2  511111819905          Baking            BAKING  test brand @1612366146176   \n",
      "3  511111519874          Baking            BAKING  test brand @1612366146051   \n",
      "4  511111319917  Candy & Sweets  CANDY_AND_SWEETS  test brand @1612366146827   \n",
      "\n",
      "  topBrand                  _id-$oid              cpg-$id-$oid cpg-$ref  \\\n",
      "0    False  601ac115be37ce2ead437551  601ac114be37ce2ead437550     Cogs   \n",
      "1    False  601c5460be37ce2ead43755f  5332f5fbe4b03c9a25efd0ba     Cogs   \n",
      "2    False  601ac142be37ce2ead43755d  601ac142be37ce2ead437559     Cogs   \n",
      "3    False  601ac142be37ce2ead43755a  601ac142be37ce2ead437559     Cogs   \n",
      "4    False  601ac142be37ce2ead43755e  5332fa12e4b03c9a25efd1e7     Cogs   \n",
      "\n",
      "                       brandCode  \n",
      "0                            NaN  \n",
      "1                      STARBUCKS  \n",
      "2  TEST BRANDCODE @1612366146176  \n",
      "3  TEST BRANDCODE @1612366146051  \n",
      "4  TEST BRANDCODE @1612366146827  \n"
     ]
    }
   ],
   "source": [
    "print(brands.describe())\n",
    "print('\\n')\n",
    "print('----------------------------')\n",
    "print(brands.head())"
   ]
  },
  {
   "cell_type": "markdown",
   "id": "9b7dfdb9",
   "metadata": {},
   "source": [
    "While `CategoryCode` has 14 unique values and `category` has 23 unique values, let's find out the levels in each columns"
   ]
  },
  {
   "cell_type": "code",
   "execution_count": 6,
   "id": "361aeb6f",
   "metadata": {},
   "outputs": [
    {
     "name": "stdout",
     "output_type": "stream",
     "text": [
      "['Baking' 'Beverages' 'Candy & Sweets' 'Condiments & Sauces'\n",
      " 'Canned Goods & Soups' nan 'Magazines' 'Breakfast & Cereal'\n",
      " 'Beer Wine Spirits' 'Health & Wellness' 'Beauty' 'Baby' 'Frozen'\n",
      " 'Grocery' 'Snacks' 'Household' 'Personal Care' 'Dairy'\n",
      " 'Cleaning & Home Improvement' 'Deli' 'Beauty & Personal Care'\n",
      " 'Bread & Bakery' 'Outdoor' 'Dairy & Refrigerated']\n",
      "-------------------------------------------\n",
      "\n",
      "\n",
      "['BAKING' 'BEVERAGES' 'CANDY_AND_SWEETS' nan 'HEALTHY_AND_WELLNESS'\n",
      " 'GROCERY' 'PERSONAL_CARE' 'CLEANING_AND_HOME_IMPROVEMENT'\n",
      " 'BEER_WINE_SPIRITS' 'BABY' 'BREAD_AND_BAKERY' 'OUTDOOR'\n",
      " 'DAIRY_AND_REFRIGERATED' 'MAGAZINES' 'FROZEN']\n",
      "-------------------------------------------\n",
      "\n",
      "\n",
      "                       category                   categoryCode  Count\n",
      "0                          Baby                           BABY      7\n",
      "1                        Baking                         BAKING    359\n",
      "2             Beer Wine Spirits              BEER_WINE_SPIRITS     31\n",
      "3                     Beverages                      BEVERAGES      1\n",
      "4                Bread & Bakery               BREAD_AND_BAKERY      5\n",
      "5                Candy & Sweets               CANDY_AND_SWEETS     71\n",
      "6   Cleaning & Home Improvement  CLEANING_AND_HOME_IMPROVEMENT      6\n",
      "7          Dairy & Refrigerated         DAIRY_AND_REFRIGERATED      5\n",
      "8                        Frozen                         FROZEN      1\n",
      "9                       Grocery                        GROCERY     11\n",
      "10            Health & Wellness           HEALTHY_AND_WELLNESS     14\n",
      "11                    Magazines                      MAGAZINES      1\n",
      "12                      Outdoor                        OUTDOOR      1\n",
      "13                Personal Care                  PERSONAL_CARE      4\n"
     ]
    }
   ],
   "source": [
    "print(brands.category.unique())\n",
    "print('-------------------------------------------')\n",
    "print('\\n')\n",
    "print(brands.categoryCode.unique())\n",
    "print('-------------------------------------------')\n",
    "print('\\n')\n",
    "# To find out the frequecy and unqiue occurence of 'Category' and 'CategoryCode'  \n",
    "print(brands.groupby(['category', 'categoryCode']).size().reset_index(name='Count'))"
   ]
  },
  {
   "cell_type": "markdown",
   "id": "4fa61347",
   "metadata": {},
   "source": [
    "As we know there are 14 unique category codes mapped to corresponding category, there are transactions present for 14 category of items. Hence we need to find out the categories with missing category code"
   ]
  },
  {
   "cell_type": "code",
   "execution_count": 7,
   "id": "24b9a88c",
   "metadata": {},
   "outputs": [
    {
     "data": {
      "text/plain": [
       "{'beauty',\n",
       " 'beauty_and_personal_care',\n",
       " 'breakfast_and_cereal',\n",
       " 'canned_goods_and_soups',\n",
       " 'condiments_and_sauces',\n",
       " 'dairy',\n",
       " 'deli',\n",
       " 'health_and_wellness',\n",
       " 'healthy_and_wellness',\n",
       " 'household',\n",
       " 'snacks'}"
      ]
     },
     "execution_count": 7,
     "metadata": {},
     "output_type": "execute_result"
    }
   ],
   "source": [
    "{\n",
    "    str(i).lower().replace(' ', '_').replace('&', 'and')\n",
    "    for i in brands.category.unique()\n",
    "} ^ {str(i).lower()\n",
    "     for i in brands.categoryCode.unique()}"
   ]
  },
  {
   "cell_type": "markdown",
   "id": "73d522d1",
   "metadata": {},
   "source": [
    "Here we can see that few category products either should be mapped to related categorycode for example, 'beauty' and 'beauty_and_personal' categories can be mapped to 'PERSONAL_CARE' or categorycode should be updated with missing category with same format as follows. "
   ]
  },
  {
   "cell_type": "markdown",
   "id": "c25b301f",
   "metadata": {},
   "source": [
    "***Data Quality Issues in Brand Dataset:***\n",
    "Upon exploring the dataset, the data quality issues addressed are,\n",
    "- finding the columns with high proportion of missing values \n",
    "- refactoring the `categoryCode` column. "
   ]
  },
  {
   "cell_type": "markdown",
   "id": "9cf5817b",
   "metadata": {},
   "source": [
    "### Exploring Users dataset"
   ]
  },
  {
   "cell_type": "code",
   "execution_count": 8,
   "id": "4ae4f98d",
   "metadata": {},
   "outputs": [
    {
     "name": "stdout",
     "output_type": "stream",
     "text": [
      "<class 'pandas.core.frame.DataFrame'>\n",
      "RangeIndex: 495 entries, 0 to 494\n",
      "Data columns (total 7 columns):\n",
      " #   Column             Non-Null Count  Dtype  \n",
      "---  ------             --------------  -----  \n",
      " 0   active             495 non-null    bool   \n",
      " 1   role               495 non-null    object \n",
      " 2   signUpSource       447 non-null    object \n",
      " 3   state              439 non-null    object \n",
      " 4   _id-$oid           495 non-null    object \n",
      " 5   createdDate-$date  495 non-null    int64  \n",
      " 6   lastLogin-$date    433 non-null    float64\n",
      "dtypes: bool(1), float64(1), int64(1), object(4)\n",
      "memory usage: 23.8+ KB\n",
      "None\n",
      "----------------------------------------------\n",
      "\n",
      "\n",
      "active              0.00\n",
      "role                0.00\n",
      "signUpSource        0.10\n",
      "state               0.11\n",
      "_id-$oid            0.00\n",
      "createdDate-$date   0.00\n",
      "lastLogin-$date     0.13\n",
      "dtype: float64\n"
     ]
    }
   ],
   "source": [
    "print(user.info())\n",
    "print('----------------------------------------------')\n",
    "print('\\n')\n",
    "print(user.isnull().mean())"
   ]
  },
  {
   "cell_type": "markdown",
   "id": "c0de67a1",
   "metadata": {},
   "source": [
    "There are high missing values in `lastlogin` and `state` columns. `CreatedDate` and 'lastlogin' columns are in incorrect data type. "
   ]
  },
  {
   "cell_type": "markdown",
   "id": "67b011d2",
   "metadata": {},
   "source": [
    "#### Summary Statistics of Users data"
   ]
  },
  {
   "cell_type": "code",
   "execution_count": 9,
   "id": "abae6bb0",
   "metadata": {},
   "outputs": [
    {
     "name": "stdout",
     "output_type": "stream",
     "text": [
      "\n",
      "\n",
      "----------------------------\n",
      "       active      role signUpSource state                  _id-$oid  \\\n",
      "count     495       495          447   439                       495   \n",
      "unique      2         2            2     8                       212   \n",
      "top      True  consumer        Email    WI  54943462e4b07e684157a532   \n",
      "freq      494       413          443   396                        20   \n",
      "first     NaN       NaN          NaN   NaN                       NaN   \n",
      "last      NaN       NaN          NaN   NaN                       NaN   \n",
      "\n",
      "                 createdDate-$date             lastLogin-$date  \n",
      "count                          495                         433  \n",
      "unique                         212                         172  \n",
      "top     2014-12-19 06:21:22.381000  2021-03-05 08:52:23.204000  \n",
      "freq                            20                          20  \n",
      "first   2014-12-19 06:21:22.381000  2018-05-07 10:23:40.003000  \n",
      "last    2021-02-12 06:11:06.240000  2021-03-05 08:52:23.204000  \n"
     ]
    }
   ],
   "source": [
    "# Treating the incorrect data type to Date format\n",
    "user['createdDate-$date'] = user['createdDate-$date'].apply(\n",
    "    lambda x: datetime.datetime.fromtimestamp(x / 1000))\n",
    "user['lastLogin-$date'] = user['lastLogin-$date'].apply(\n",
    "    lambda x: datetime.datetime.fromtimestamp(x / 1000) if x.is_integer() else np.nan)\n",
    "print('\\n')\n",
    "print('----------------------------')\n",
    "print(user.describe())"
   ]
  },
  {
   "cell_type": "code",
   "execution_count": 10,
   "id": "609bd68a",
   "metadata": {
    "scrolled": true
   },
   "outputs": [
    {
     "name": "stdout",
     "output_type": "stream",
     "text": [
      "   active      role signUpSource state                  _id-$oid  \\\n",
      "0    True  consumer        Email    WI  5ff1e194b6a9d73a3a9f1052   \n",
      "1    True  consumer        Email    WI  5ff1e194b6a9d73a3a9f1052   \n",
      "2    True  consumer        Email    WI  5ff1e194b6a9d73a3a9f1052   \n",
      "3    True  consumer        Email    WI  5ff1e1eacfcf6c399c274ae6   \n",
      "4    True  consumer        Email    WI  5ff1e194b6a9d73a3a9f1052   \n",
      "\n",
      "        createdDate-$date         lastLogin-$date  \n",
      "0 2021-01-03 07:24:04.800 2021-01-03 07:25:37.858  \n",
      "1 2021-01-03 07:24:04.800 2021-01-03 07:25:37.858  \n",
      "2 2021-01-03 07:24:04.800 2021-01-03 07:25:37.858  \n",
      "3 2021-01-03 07:25:30.554 2021-01-03 07:25:30.597  \n",
      "4 2021-01-03 07:24:04.800 2021-01-03 07:25:37.858  \n"
     ]
    }
   ],
   "source": [
    "print(user.head())"
   ]
  },
  {
   "cell_type": "markdown",
   "id": "98f722ab",
   "metadata": {},
   "source": [
    "From summary statistics, we can infer:\n",
    "- there are 495 users data and there are only 212 unique userID which implies there are few users duplicated. \n",
    "- Out of 495 users, 443 users signed up through 'Email'\n",
    "- Most of the users are based out in WI, (396/495)"
   ]
  },
  {
   "cell_type": "code",
   "execution_count": 11,
   "id": "3a9f7ae0",
   "metadata": {},
   "outputs": [
    {
     "name": "stdout",
     "output_type": "stream",
     "text": [
      "['consumer' 'fetch-staff']\n",
      "-----------------------------\n",
      "['Email' 'Google' nan]\n",
      "-----------------------------\n",
      "['WI' 'KY' 'AL' 'CO' 'IL' nan 'OH' 'SC' 'NH']\n"
     ]
    }
   ],
   "source": [
    "print(user.role.unique())\n",
    "print('-----------------------------')\n",
    "print(user.signUpSource.unique())\n",
    "print('-----------------------------')\n",
    "print(user.state.unique())"
   ]
  },
  {
   "cell_type": "code",
   "execution_count": 12,
   "id": "5e41320d",
   "metadata": {},
   "outputs": [
    {
     "name": "stdout",
     "output_type": "stream",
     "text": [
      "       active      role signUpSource state                  _id-$oid  \\\n",
      "count     212       212          207   206                       212   \n",
      "unique      2         2            2     8                       212   \n",
      "top      True  consumer        Email    WI  5ff1e194b6a9d73a3a9f1052   \n",
      "freq      211       204          204   193                         1   \n",
      "first     NaN       NaN          NaN   NaN                       NaN   \n",
      "last      NaN       NaN          NaN   NaN                       NaN   \n",
      "\n",
      "                 createdDate-$date             lastLogin-$date  \n",
      "count                          212                         172  \n",
      "unique                         212                         172  \n",
      "top     2021-01-03 07:24:04.800000  2021-01-03 07:25:37.858000  \n",
      "freq                             1                           1  \n",
      "first   2014-12-19 06:21:22.381000  2018-05-07 10:23:40.003000  \n",
      "last    2021-02-12 06:11:06.240000  2021-03-05 08:52:23.204000  \n"
     ]
    }
   ],
   "source": [
    "# Ignoring the duplicate users\n",
    "print(user[~user.duplicated()].describe())"
   ]
  },
  {
   "cell_type": "markdown",
   "id": "4218f4c0",
   "metadata": {},
   "source": [
    "Characteristics of data has remained same. Lets explore the number of users across each state and signupsource"
   ]
  },
  {
   "cell_type": "code",
   "execution_count": 13,
   "id": "f0e4cba3",
   "metadata": {},
   "outputs": [
    {
     "name": "stdout",
     "output_type": "stream",
     "text": [
      "  state signUpSource  count\n",
      "8    WI        Email    190\n",
      "0    AL        Email      3\n",
      "1    AL       Google      2\n",
      "3    IL        Email      2\n",
      "2    CO        Email      1\n",
      "4    KY        Email      1\n",
      "5    NH        Email      1\n",
      "6    OH        Email      1\n",
      "7    SC        Email      1\n",
      "9    WI       Google      1\n"
     ]
    }
   ],
   "source": [
    "print(user[~user.duplicated()].groupby([\n",
    "    'state', 'signUpSource'\n",
    "]).size().reset_index(name='count').sort_values('count', ascending=False))"
   ]
  },
  {
   "cell_type": "markdown",
   "id": "47eed49c",
   "metadata": {},
   "source": [
    "***Data Quality Issues in User Dataset:***\n",
    "Upon exploring the dataset, the data quality issues addressed are,\n",
    "- finding the columns with high proportion of missing values and duplicate users \n",
    "- changing the incorrect datetype of date columns to 'datetime' datatype "
   ]
  },
  {
   "cell_type": "markdown",
   "id": "259cc0f4",
   "metadata": {},
   "source": [
    "### Exploring Receipt Dataset"
   ]
  },
  {
   "cell_type": "code",
   "execution_count": 14,
   "id": "9bbf2e98",
   "metadata": {},
   "outputs": [
    {
     "name": "stdout",
     "output_type": "stream",
     "text": [
      "<class 'pandas.core.frame.DataFrame'>\n",
      "RangeIndex: 1119 entries, 0 to 1118\n",
      "Data columns (total 15 columns):\n",
      " #   Column                   Non-Null Count  Dtype  \n",
      "---  ------                   --------------  -----  \n",
      " 0   bonusPointsEarned        544 non-null    float64\n",
      " 1   bonusPointsEarnedReason  544 non-null    object \n",
      " 2   pointsEarned             609 non-null    object \n",
      " 3   purchasedItemCount       635 non-null    float64\n",
      " 4   rewardsReceiptItemList   679 non-null    object \n",
      " 5   rewardsReceiptStatus     1119 non-null   object \n",
      " 6   totalSpent               684 non-null    object \n",
      " 7   userId                   1119 non-null   object \n",
      " 8   _id-$oid                 1119 non-null   object \n",
      " 9   createDate-$date         1119 non-null   int64  \n",
      " 10  dateScanned-$date        1119 non-null   int64  \n",
      " 11  finishedDate-$date       568 non-null    float64\n",
      " 12  modifyDate-$date         1119 non-null   int64  \n",
      " 13  pointsAwardedDate-$date  537 non-null    float64\n",
      " 14  purchaseDate-$date       671 non-null    float64\n",
      "dtypes: float64(5), int64(3), object(7)\n",
      "memory usage: 131.3+ KB\n",
      "None\n",
      "-------------------------------------------\n",
      "\n",
      "\n",
      "pointsAwardedDate-$date   0.52\n",
      "bonusPointsEarned         0.51\n",
      "bonusPointsEarnedReason   0.51\n",
      "finishedDate-$date        0.49\n",
      "pointsEarned              0.46\n",
      "purchasedItemCount        0.43\n",
      "purchaseDate-$date        0.40\n",
      "rewardsReceiptItemList    0.39\n",
      "totalSpent                0.39\n",
      "rewardsReceiptStatus      0.00\n",
      "userId                    0.00\n",
      "_id-$oid                  0.00\n",
      "createDate-$date          0.00\n",
      "dateScanned-$date         0.00\n",
      "modifyDate-$date          0.00\n",
      "dtype: float64\n"
     ]
    }
   ],
   "source": [
    "print(receipts.info())\n",
    "print('-------------------------------------------')\n",
    "print('\\n')\n",
    "print(receipts.isnull().mean().sort_values(ascending=False))"
   ]
  },
  {
   "cell_type": "markdown",
   "id": "58bbe05c",
   "metadata": {},
   "source": [
    "From the data description, we can found that there are 1119 unique user data. Hence there are no duplicate records."
   ]
  },
  {
   "cell_type": "code",
   "execution_count": 15,
   "id": "56bab203",
   "metadata": {},
   "outputs": [
    {
     "name": "stdout",
     "output_type": "stream",
     "text": [
      "   bonusPointsEarned                            bonusPointsEarnedReason  \\\n",
      "0             500.00  Receipt number 2 completed, bonus point schedu...   \n",
      "1             150.00  Receipt number 5 completed, bonus point schedu...   \n",
      "2               5.00                         All-receipts receipt bonus   \n",
      "3               5.00                         All-receipts receipt bonus   \n",
      "4               5.00                         All-receipts receipt bonus   \n",
      "\n",
      "  pointsEarned  purchasedItemCount  \\\n",
      "0        500.0                5.00   \n",
      "1        150.0                2.00   \n",
      "2            5                1.00   \n",
      "3          5.0                4.00   \n",
      "4          5.0                2.00   \n",
      "\n",
      "                              rewardsReceiptItemList rewardsReceiptStatus  \\\n",
      "0  [{'barcode': '4011', 'description': 'ITEM NOT ...             FINISHED   \n",
      "1  [{'barcode': '4011', 'description': 'ITEM NOT ...             FINISHED   \n",
      "2  [{'needsFetchReview': False, 'partnerItemId': ...             REJECTED   \n",
      "3  [{'barcode': '4011', 'description': 'ITEM NOT ...             FINISHED   \n",
      "4  [{'barcode': '4011', 'description': 'ITEM NOT ...             FINISHED   \n",
      "\n",
      "  totalSpent                    userId                  _id-$oid  \\\n",
      "0      26.00  5ff1e1eacfcf6c399c274ae6  5ff1e1eb0a720f0523000575   \n",
      "1      11.00  5ff1e194b6a9d73a3a9f1052  5ff1e1bb0a720f052300056b   \n",
      "2      10.00  5ff1e1f1cfcf6c399c274b0b  5ff1e1f10a720f052300057a   \n",
      "3      28.00  5ff1e1eacfcf6c399c274ae6  5ff1e1ee0a7214ada100056f   \n",
      "4       1.00  5ff1e194b6a9d73a3a9f1052  5ff1e1d20a7214ada1000561   \n",
      "\n",
      "   createDate-$date  dateScanned-$date  finishedDate-$date  modifyDate-$date  \\\n",
      "0     1609687531000      1609687531000    1609687531000.00     1609687536000   \n",
      "1     1609687483000      1609687483000    1609687483000.00     1609687488000   \n",
      "2     1609687537000      1609687537000                 NaN     1609687542000   \n",
      "3     1609687534000      1609687534000    1609687534000.00     1609687539000   \n",
      "4     1609687506000      1609687506000    1609687511000.00     1609687511000   \n",
      "\n",
      "   pointsAwardedDate-$date  purchaseDate-$date  \n",
      "0         1609687531000.00    1609632000000.00  \n",
      "1         1609687483000.00    1609601083000.00  \n",
      "2                      NaN    1609632000000.00  \n",
      "3         1609687534000.00    1609632000000.00  \n",
      "4         1609687506000.00    1609601106000.00  \n"
     ]
    }
   ],
   "source": [
    "print(receipts.head())"
   ]
  },
  {
   "cell_type": "markdown",
   "id": "4fa575c8",
   "metadata": {},
   "source": [
    "By inspecting the data, column `rewardsReceiptItemLis` list of dict data type. Hence we should convert the dict values to dataframe."
   ]
  },
  {
   "cell_type": "code",
   "execution_count": 16,
   "id": "f3459716",
   "metadata": {},
   "outputs": [],
   "source": [
    "receipts_explode = receipts.explode('rewardsReceiptItemList')\n",
    "receipts_explode.reset_index(drop=True, inplace=True)\n",
    "\n",
    "items = pd.json_normalize(receipts_explode.rewardsReceiptItemList)\n",
    "receipts_explode.drop(columns='rewardsReceiptItemList', inplace=True)\n",
    "receipts_final = pd.concat([receipts_explode, items], axis = 1)"
   ]
  },
  {
   "cell_type": "code",
   "execution_count": 17,
   "id": "ab4d190f",
   "metadata": {},
   "outputs": [
    {
     "name": "stdout",
     "output_type": "stream",
     "text": [
      "<class 'pandas.core.frame.DataFrame'>\n",
      "RangeIndex: 7381 entries, 0 to 7380\n",
      "Data columns (total 48 columns):\n",
      " #   Column                              Non-Null Count  Dtype  \n",
      "---  ------                              --------------  -----  \n",
      " 0   bonusPointsEarned                   5980 non-null   float64\n",
      " 1   bonusPointsEarnedReason             5980 non-null   object \n",
      " 2   pointsEarned                        6253 non-null   object \n",
      " 3   purchasedItemCount                  6897 non-null   float64\n",
      " 4   rewardsReceiptStatus                7381 non-null   object \n",
      " 5   totalSpent                          6946 non-null   object \n",
      " 6   userId                              7381 non-null   object \n",
      " 7   _id-$oid                            7381 non-null   object \n",
      " 8   createDate-$date                    7381 non-null   int64  \n",
      " 9   dateScanned-$date                   7381 non-null   int64  \n",
      " 10  finishedDate-$date                  5970 non-null   float64\n",
      " 11  modifyDate-$date                    7381 non-null   int64  \n",
      " 12  pointsAwardedDate-$date             6080 non-null   float64\n",
      " 13  purchaseDate-$date                  6923 non-null   float64\n",
      " 14  barcode                             3090 non-null   object \n",
      " 15  description                         6560 non-null   object \n",
      " 16  finalPrice                          6767 non-null   object \n",
      " 17  itemPrice                           6767 non-null   object \n",
      " 18  needsFetchReview                    813 non-null    object \n",
      " 19  partnerItemId                       6941 non-null   object \n",
      " 20  preventTargetGapPoints              358 non-null    object \n",
      " 21  quantityPurchased                   6767 non-null   float64\n",
      " 22  userFlaggedBarcode                  337 non-null    object \n",
      " 23  userFlaggedNewItem                  323 non-null    object \n",
      " 24  userFlaggedPrice                    299 non-null    object \n",
      " 25  userFlaggedQuantity                 299 non-null    float64\n",
      " 26  needsFetchReviewReason              219 non-null    object \n",
      " 27  pointsNotAwardedReason              340 non-null    object \n",
      " 28  pointsPayerId                       1267 non-null   object \n",
      " 29  rewardsGroup                        1731 non-null   object \n",
      " 30  rewardsProductPartnerId             2269 non-null   object \n",
      " 31  userFlaggedDescription              205 non-null    object \n",
      " 32  originalMetaBriteBarcode            71 non-null     object \n",
      " 33  originalMetaBriteDescription        10 non-null     object \n",
      " 34  brandCode                           2600 non-null   object \n",
      " 35  competitorRewardsGroup              275 non-null    object \n",
      " 36  discountedItemPrice                 5769 non-null   object \n",
      " 37  originalReceiptItemText             5760 non-null   object \n",
      " 38  itemNumber                          153 non-null    object \n",
      " 39  originalMetaBriteQuantityPurchased  15 non-null     float64\n",
      " 40  pointsEarned                        927 non-null    object \n",
      " 41  targetPrice                         378 non-null    object \n",
      " 42  competitiveProduct                  645 non-null    object \n",
      " 43  originalFinalPrice                  9 non-null      object \n",
      " 44  originalMetaBriteItemPrice          9 non-null      object \n",
      " 45  deleted                             9 non-null      object \n",
      " 46  priceAfterCoupon                    956 non-null    object \n",
      " 47  metabriteCampaignId                 863 non-null    object \n",
      "dtypes: float64(8), int64(3), object(37)\n",
      "memory usage: 2.7+ MB\n"
     ]
    }
   ],
   "source": [
    "receipts_final.info()"
   ]
  },
  {
   "cell_type": "code",
   "execution_count": 18,
   "id": "d481257b",
   "metadata": {},
   "outputs": [],
   "source": [
    "# Treating the incorrect data type to Date format\n",
    "for i in ['createDate-$date', 'dateScanned-$date', 'modifyDate-$date']:\n",
    "    receipts_final[i] = receipts_final[i].apply(\n",
    "        lambda x: datetime.datetime.fromtimestamp(x / 1000))\n",
    "for i in ['finishedDate-$date', 'pointsAwardedDate-$date', 'purchaseDate-$date']:\n",
    "    receipts_final[i] = receipts_final[i].apply(\n",
    "        lambda x: datetime.datetime.fromtimestamp(x / 1000) if x.is_integer() else np.nan)\n",
    "\n",
    "# Treating the inncorrect data tyoe of numeric fields\n",
    "receipts_final['pointsEarned'] = receipts_final['pointsEarned'].astype('float')\n",
    "receipts_final['totalSpent'] = receipts_final['totalSpent'].astype('float')\n",
    "receipts_final['finalPrice'] = receipts_final['finalPrice'].astype('float')\n",
    "receipts_final['itemPrice'] = receipts_final['itemPrice'].astype('float')\n",
    "receipts_final['quantityPurchased'] = receipts_final['quantityPurchased'].astype('float')"
   ]
  },
  {
   "cell_type": "markdown",
   "id": "5dacd470",
   "metadata": {},
   "source": [
    "#### Summary Statistics"
   ]
  },
  {
   "cell_type": "code",
   "execution_count": 19,
   "id": "76a8cc63",
   "metadata": {},
   "outputs": [
    {
     "name": "stdout",
     "output_type": "stream",
     "text": [
      "----------------------------\n",
      "\n",
      "\n",
      "                                  bonusPointsEarnedReason  \\\n",
      "count                                                5980   \n",
      "unique                                                  9   \n",
      "top     Receipt number 1 completed, bonus point schedu...   \n",
      "freq                                                 4605   \n",
      "\n",
      "       rewardsReceiptStatus                    userId  \\\n",
      "count                  7381                      7381   \n",
      "unique                    5                       258   \n",
      "top                FINISHED  5fc961c3b8cfca11a077dd33   \n",
      "freq                   5920                       477   \n",
      "\n",
      "                        _id-$oid barcode     description needsFetchReview  \\\n",
      "count                       7381    3090            6560              813   \n",
      "unique                      1119     568            1889                2   \n",
      "top     600f2fc80a720f0535000030    4011  ITEM NOT FOUND            False   \n",
      "freq                         459     177             173              594   \n",
      "\n",
      "       partnerItemId preventTargetGapPoints userFlaggedBarcode  ...  \\\n",
      "count           6941                    358                337  ...   \n",
      "unique           916                      1                  6  ...   \n",
      "top                1                   True       034100573065  ...   \n",
      "freq             531                    358                166  ...   \n",
      "\n",
      "       discountedItemPrice  originalReceiptItemText itemNumber targetPrice  \\\n",
      "count                 5769                     5760        153         378   \n",
      "unique                 817                     1738         47           2   \n",
      "top                   3.99  KLARBRUNN 12PK 12 FL OZ       4023         800   \n",
      "freq                   243                      120         92         299   \n",
      "\n",
      "       competitiveProduct originalFinalPrice originalMetaBriteItemPrice  \\\n",
      "count                 645                  9                          9   \n",
      "unique                  2                  2                          2   \n",
      "top                  True               1.00                       1.00   \n",
      "freq                  468                  6                          6   \n",
      "\n",
      "       deleted priceAfterCoupon       metabriteCampaignId  \n",
      "count        9              956                       863  \n",
      "unique       1              334                        75  \n",
      "top       True            28.57  BEN AND JERRYS ICE CREAM  \n",
      "freq         9               50                       180  \n",
      "\n",
      "[4 rows x 32 columns]\n",
      "----------------------------\n",
      "\n",
      "\n"
     ]
    }
   ],
   "source": [
    "print('----------------------------')\n",
    "print('\\n')\n",
    "print(receipts_final.describe(include='O'))\n",
    "print('----------------------------')\n",
    "print('\\n')\n"
   ]
  },
  {
   "cell_type": "code",
   "execution_count": 20,
   "id": "09ce5ca2",
   "metadata": {},
   "outputs": [
    {
     "name": "stdout",
     "output_type": "stream",
     "text": [
      "       bonusPointsEarned  pointsEarned  purchasedItemCount  totalSpent  \\\n",
      "count            5980.00       6253.00             6897.00     6946.00   \n",
      "mean              625.90       2175.58              240.76     1368.58   \n",
      "min                 5.00          0.00                0.00        0.00   \n",
      "25%               750.00        750.00               93.00      373.55   \n",
      "50%               750.00       1447.00              167.00      776.79   \n",
      "75%               750.00       2685.80              335.00     1183.10   \n",
      "max               750.00      10199.80              689.00     4721.95   \n",
      "std               244.40       2175.73              221.81     1588.96   \n",
      "\n",
      "                    createDate-$date              dateScanned-$date  \\\n",
      "count                           7381                           7381   \n",
      "mean   2021-01-21 11:52:10.887508992  2021-01-21 11:52:10.887508992   \n",
      "min              2020-10-30 13:17:59            2020-10-30 13:17:59   \n",
      "25%              2021-01-16 15:14:56            2021-01-16 15:14:56   \n",
      "50%              2021-01-22 08:07:11            2021-01-22 08:07:11   \n",
      "75%              2021-01-25 12:05:43            2021-01-25 12:05:43   \n",
      "max       2021-03-01 15:17:34.772000     2021-03-01 15:17:34.772000   \n",
      "std                              NaN                            NaN   \n",
      "\n",
      "                  finishedDate-$date               modifyDate-$date  \\\n",
      "count                           5970                           7381   \n",
      "mean   2021-01-20 10:47:58.447184896  2021-01-22 09:38:52.782238976   \n",
      "min              2021-01-03 07:24:10            2021-01-03 07:24:10   \n",
      "25%              2021-01-16 15:09:03            2021-01-16 15:31:40   \n",
      "50%              2021-01-21 16:30:13            2021-01-22 08:32:00   \n",
      "75%              2021-01-25 06:51:04            2021-01-25 14:39:03   \n",
      "max              2021-02-26 14:36:25     2021-03-01 15:17:34.772000   \n",
      "std                              NaN                            NaN   \n",
      "\n",
      "             pointsAwardedDate-$date             purchaseDate-$date  \\\n",
      "count                           6080                           6923   \n",
      "mean   2021-01-19 18:22:05.249013248  2021-01-12 04:46:27.671674112   \n",
      "min              2020-10-30 13:18:00            2017-10-29 17:00:00   \n",
      "25%              2021-01-15 19:47:26            2021-01-12 08:09:22   \n",
      "50%       2021-01-21 13:44:11.500000            2021-01-20 16:00:00   \n",
      "75%              2021-01-25 06:51:04            2021-01-23 16:00:00   \n",
      "max              2021-02-26 14:36:25            2021-03-08 09:37:13   \n",
      "std                              NaN                            NaN   \n",
      "\n",
      "       finalPrice  itemPrice  quantityPurchased  userFlaggedQuantity  \\\n",
      "count     6767.00    6767.00            6767.00               299.00   \n",
      "mean         7.87       7.87               1.39                 1.87   \n",
      "min          0.00       0.00               1.00                 1.00   \n",
      "25%          2.29       2.29               1.00                 1.00   \n",
      "50%          4.28       4.28               1.00                 1.00   \n",
      "75%          9.99       9.99               1.00                 3.00   \n",
      "max        441.58     441.58              17.00                 5.00   \n",
      "std         14.66      14.66               1.20                 1.31   \n",
      "\n",
      "       originalMetaBriteQuantityPurchased  pointsEarned  \n",
      "count                               15.00        927.00  \n",
      "mean                                 1.20        140.51  \n",
      "min                                  1.00          4.50  \n",
      "25%                                  1.00         28.05  \n",
      "50%                                  1.00         50.00  \n",
      "75%                                  1.00        165.45  \n",
      "max                                  2.00        870.00  \n",
      "std                                  0.41        223.01  \n"
     ]
    }
   ],
   "source": [
    "print(receipts_final.describe(exclude='O', datetime_is_numeric=True))"
   ]
  },
  {
   "cell_type": "code",
   "execution_count": 21,
   "id": "b9ef986b",
   "metadata": {},
   "outputs": [
    {
     "name": "stdout",
     "output_type": "stream",
     "text": [
      "   bonusPointsEarned                            bonusPointsEarnedReason  \\\n",
      "0             500.00  Receipt number 2 completed, bonus point schedu...   \n",
      "1             150.00  Receipt number 5 completed, bonus point schedu...   \n",
      "2             150.00  Receipt number 5 completed, bonus point schedu...   \n",
      "3               5.00                         All-receipts receipt bonus   \n",
      "4               5.00                         All-receipts receipt bonus   \n",
      "\n",
      "  pointsEarned  purchasedItemCount rewardsReceiptStatus  totalSpent  \\\n",
      "0       500.00                5.00             FINISHED       26.00   \n",
      "1       150.00                2.00             FINISHED       11.00   \n",
      "2       150.00                2.00             FINISHED       11.00   \n",
      "3         5.00                1.00             REJECTED       10.00   \n",
      "4         5.00                4.00             FINISHED       28.00   \n",
      "\n",
      "                     userId                  _id-$oid    createDate-$date  \\\n",
      "0  5ff1e1eacfcf6c399c274ae6  5ff1e1eb0a720f0523000575 2021-01-03 07:25:31   \n",
      "1  5ff1e194b6a9d73a3a9f1052  5ff1e1bb0a720f052300056b 2021-01-03 07:24:43   \n",
      "2  5ff1e194b6a9d73a3a9f1052  5ff1e1bb0a720f052300056b 2021-01-03 07:24:43   \n",
      "3  5ff1e1f1cfcf6c399c274b0b  5ff1e1f10a720f052300057a 2021-01-03 07:25:37   \n",
      "4  5ff1e1eacfcf6c399c274ae6  5ff1e1ee0a7214ada100056f 2021-01-03 07:25:34   \n",
      "\n",
      "    dateScanned-$date  ... itemNumber originalMetaBriteQuantityPurchased  \\\n",
      "0 2021-01-03 07:25:31  ...        NaN                                NaN   \n",
      "1 2021-01-03 07:24:43  ...        NaN                                NaN   \n",
      "2 2021-01-03 07:24:43  ...        NaN                                NaN   \n",
      "3 2021-01-03 07:25:37  ...        NaN                                NaN   \n",
      "4 2021-01-03 07:25:34  ...        NaN                                NaN   \n",
      "\n",
      "  pointsEarned targetPrice competitiveProduct originalFinalPrice  \\\n",
      "0          NaN         NaN                NaN                NaN   \n",
      "1          NaN         NaN                NaN                NaN   \n",
      "2          NaN         NaN                NaN                NaN   \n",
      "3          NaN         NaN                NaN                NaN   \n",
      "4          NaN         NaN                NaN                NaN   \n",
      "\n",
      "   originalMetaBriteItemPrice  deleted priceAfterCoupon metabriteCampaignId  \n",
      "0                         NaN      NaN              NaN                 NaN  \n",
      "1                         NaN      NaN              NaN                 NaN  \n",
      "2                         NaN      NaN              NaN                 NaN  \n",
      "3                         NaN      NaN              NaN                 NaN  \n",
      "4                         NaN      NaN              NaN                 NaN  \n",
      "\n",
      "[5 rows x 48 columns]\n"
     ]
    }
   ],
   "source": [
    "print(receipts_final.head())"
   ]
  },
  {
   "cell_type": "markdown",
   "id": "67ac105e",
   "metadata": {},
   "source": [
    "***Data Quality Issues:*** Upon exploring the dataset, the data quality issues addressed are,\n",
    "- parsed nested json values to tabular format and concatenated to original dataset\n",
    "- changed the incorrect data types of the columns to appropriate data types."
   ]
  },
  {
   "cell_type": "code",
   "execution_count": null,
   "id": "632788e9",
   "metadata": {},
   "outputs": [],
   "source": []
  }
 ],
 "metadata": {
  "kernelspec": {
   "display_name": "Python 3 (ipykernel)",
   "language": "python",
   "name": "python3"
  },
  "language_info": {
   "codemirror_mode": {
    "name": "ipython",
    "version": 3
   },
   "file_extension": ".py",
   "mimetype": "text/x-python",
   "name": "python",
   "nbconvert_exporter": "python",
   "pygments_lexer": "ipython3",
   "version": "3.10.9"
  },
  "toc": {
   "base_numbering": 1,
   "nav_menu": {},
   "number_sections": true,
   "sideBar": true,
   "skip_h1_title": false,
   "title_cell": "Table of Contents",
   "title_sidebar": "Contents",
   "toc_cell": false,
   "toc_position": {},
   "toc_section_display": true,
   "toc_window_display": false
  },
  "varInspector": {
   "cols": {
    "lenName": 16,
    "lenType": 16,
    "lenVar": 40
   },
   "kernels_config": {
    "python": {
     "delete_cmd_postfix": "",
     "delete_cmd_prefix": "del ",
     "library": "var_list.py",
     "varRefreshCmd": "print(var_dic_list())"
    },
    "r": {
     "delete_cmd_postfix": ") ",
     "delete_cmd_prefix": "rm(",
     "library": "var_list.r",
     "varRefreshCmd": "cat(var_dic_list()) "
    }
   },
   "types_to_exclude": [
    "module",
    "function",
    "builtin_function_or_method",
    "instance",
    "_Feature"
   ],
   "window_display": false
  }
 },
 "nbformat": 4,
 "nbformat_minor": 5
}
